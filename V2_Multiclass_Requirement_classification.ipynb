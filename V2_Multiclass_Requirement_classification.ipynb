{
 "cells": [
  {
   "cell_type": "markdown",
   "metadata": {
    "id": "hwzu0YpaYXhn"
   },
   "source": [
    "# Classifying requirements \n",
    "\n",
    "We would be using **Keras** and **Tensorflow** for creating the classification model. Hence, let's install these libraries first. \n",
    "\n",
    "### Dependencies required to run \n",
    "\n",
    "pandas 1.1.5 <br> \n",
    "numpy 1.19.5 <br> \n",
    "keras 2.6.0 <br> \n",
    "scikit-learn 0.22.2.post1 <br> \n",
    "tensorflow 2.6.0  <br> \n",
    "imbalanced-learn 0.8.1    <br> \n",
    "pythin 3.7.12  <br> \n",
    "pip 21.1.3 <br> "
   ]
  },
  {
   "cell_type": "code",
   "execution_count": null,
   "metadata": {
    "id": "mhEr1_1Ll7dM"
   },
   "outputs": [],
   "source": [
    "!pip install keras\n",
    "!pip install tensorflow"
   ]
  },
  {
   "cell_type": "code",
   "execution_count": 1,
   "metadata": {
    "colab": {
     "base_uri": "https://localhost:8080/"
    },
    "id": "pm0nCDCMYXhy",
    "outputId": "fabbf88d-64c0-428b-8799-79f17adb0190"
   },
   "outputs": [
    {
     "name": "stdout",
     "output_type": "stream",
     "text": [
      "Collecting imbalanced-learn\n",
      "  Using cached imbalanced_learn-0.8.1-py3-none-any.whl (189 kB)\n",
      "Collecting numpy>=1.13.3\n",
      "  Downloading numpy-1.21.4-cp39-cp39-win_amd64.whl (14.0 MB)\n",
      "Collecting scipy>=0.19.1\n",
      "  Downloading scipy-1.7.2-cp39-cp39-win_amd64.whl (34.3 MB)\n",
      "Collecting joblib>=0.11\n",
      "  Downloading joblib-1.1.0-py2.py3-none-any.whl (306 kB)\n",
      "Collecting scikit-learn>=0.24\n",
      "  Downloading scikit_learn-1.0.1-cp39-cp39-win_amd64.whl (7.2 MB)\n",
      "Collecting threadpoolctl>=2.0.0\n",
      "  Downloading threadpoolctl-3.0.0-py3-none-any.whl (14 kB)\n",
      "Installing collected packages: numpy, threadpoolctl, scipy, joblib, scikit-learn, imbalanced-learn\n",
      "Successfully installed imbalanced-learn-0.8.1 joblib-1.1.0 numpy-1.21.4 scikit-learn-1.0.1 scipy-1.7.2 threadpoolctl-3.0.0\n"
     ]
    }
   ],
   "source": [
    "!pip install -U imbalanced-learn"
   ]
  },
  {
   "cell_type": "markdown",
   "metadata": {
    "id": "JfAAjZkuYXh0"
   },
   "source": [
    "Importing different libraries that we would be using for creating the model. "
   ]
  },
  {
   "cell_type": "code",
   "execution_count": 2,
   "metadata": {
    "id": "ZLwGyMZbl7dG"
   },
   "outputs": [],
   "source": [
    "import pandas as pd\n",
    "from sklearn.model_selection import train_test_split\n",
    "from keras.preprocessing.text import Tokenizer \n",
    "from keras.preprocessing.sequence import pad_sequences\n",
    "import tensorflow as tf\n",
    "import numpy as np\n",
    "from imblearn.under_sampling import RandomUnderSampler"
   ]
  },
  {
   "cell_type": "markdown",
   "metadata": {
    "id": "0n2RqzXsYXh2"
   },
   "source": [
    "Importing the .csv file with the requirements and their corresponding labels. "
   ]
  },
  {
   "cell_type": "code",
   "execution_count": 16,
   "metadata": {
    "colab": {
     "base_uri": "https://localhost:8080/",
     "height": 202
    },
    "id": "sPD8BVMMl7dO",
    "outputId": "536e1095-50ef-4a8e-d963-8a57036fe0f7"
   },
   "outputs": [
    {
     "data": {
      "text/html": [
       "<div>\n",
       "<style scoped>\n",
       "    .dataframe tbody tr th:only-of-type {\n",
       "        vertical-align: middle;\n",
       "    }\n",
       "\n",
       "    .dataframe tbody tr th {\n",
       "        vertical-align: top;\n",
       "    }\n",
       "\n",
       "    .dataframe thead th {\n",
       "        text-align: right;\n",
       "    }\n",
       "</style>\n",
       "<table border=\"1\" class=\"dataframe\">\n",
       "  <thead>\n",
       "    <tr style=\"text-align: right;\">\n",
       "      <th></th>\n",
       "      <th>requirement</th>\n",
       "      <th>label</th>\n",
       "    </tr>\n",
       "  </thead>\n",
       "  <tbody>\n",
       "    <tr>\n",
       "      <th>0</th>\n",
       "      <td>The Crew Oxygen hoses shall not be adversely a...</td>\n",
       "      <td>0</td>\n",
       "    </tr>\n",
       "    <tr>\n",
       "      <th>1</th>\n",
       "      <td>The slide/raft shall be capable of withstandin...</td>\n",
       "      <td>0</td>\n",
       "    </tr>\n",
       "    <tr>\n",
       "      <th>2</th>\n",
       "      <td>The Secondary Lock Actuator shall be designed ...</td>\n",
       "      <td>0</td>\n",
       "    </tr>\n",
       "    <tr>\n",
       "      <th>3</th>\n",
       "      <td>The main landing gear shall operate within the...</td>\n",
       "      <td>0</td>\n",
       "    </tr>\n",
       "    <tr>\n",
       "      <th>4</th>\n",
       "      <td>The HCM shall meet performance requirements af...</td>\n",
       "      <td>0</td>\n",
       "    </tr>\n",
       "  </tbody>\n",
       "</table>\n",
       "</div>"
      ],
      "text/plain": [
       "                                         requirement  label\n",
       "0  The Crew Oxygen hoses shall not be adversely a...      0\n",
       "1  The slide/raft shall be capable of withstandin...      0\n",
       "2  The Secondary Lock Actuator shall be designed ...      0\n",
       "3  The main landing gear shall operate within the...      0\n",
       "4  The HCM shall meet performance requirements af...      0"
      ]
     },
     "execution_count": 16,
     "metadata": {},
     "output_type": "execute_result"
    }
   ],
   "source": [
    "df = pd.read_csv(\"requirements.csv\")\n",
    "df.head()"
   ]
  },
  {
   "cell_type": "markdown",
   "metadata": {
    "id": "KiBXVi-IYXh4"
   },
   "source": [
    "Let's check the number of requirements and the types of requirements in our dataset. "
   ]
  },
  {
   "cell_type": "code",
   "execution_count": 17,
   "metadata": {
    "colab": {
     "base_uri": "https://localhost:8080/"
    },
    "id": "lJemVUyqYXh6",
    "outputId": "bc952e17-863a-46b2-8d3e-39cc7573c094"
   },
   "outputs": [
    {
     "data": {
      "text/plain": [
       "(253, 2)"
      ]
     },
     "execution_count": 17,
     "metadata": {},
     "output_type": "execute_result"
    }
   ],
   "source": [
    "df.shape"
   ]
  },
  {
   "cell_type": "code",
   "execution_count": 18,
   "metadata": {
    "colab": {
     "base_uri": "https://localhost:8080/"
    },
    "id": "gA01n4w1YXh8",
    "outputId": "34fe68ea-57dd-4a77-9dcd-019e8fc59de9"
   },
   "outputs": [
    {
     "data": {
      "text/plain": [
       "0    129\n",
       "2     70\n",
       "1     54\n",
       "Name: label, dtype: int64"
      ]
     },
     "execution_count": 18,
     "metadata": {},
     "output_type": "execute_result"
    }
   ],
   "source": [
    "df['label'].value_counts()"
   ]
  },
  {
   "cell_type": "markdown",
   "metadata": {
    "id": "7VSMi77N3wcB"
   },
   "source": [
    "Environmental requirements are labeled 0. (129 requirements) <br> \n",
    "Suitability requirements are labeled 1. (54 requirements) <br>\n",
    "Design requirements are labeled as 2. (70 requirements) <br> "
   ]
  },
  {
   "cell_type": "code",
   "execution_count": null,
   "metadata": {
    "id": "mku4ZlogYXh9"
   },
   "outputs": [],
   "source": [
    "# Uncomment this cell to convert the labels into string type\n",
    "# df.label = df.label.astype(str)\n",
    "# df.label.unique()"
   ]
  },
  {
   "cell_type": "markdown",
   "metadata": {
    "id": "v3NMRthQ38zz"
   },
   "source": [
    "As we can see from above, the number of requirements of each type is not the same. Hence, we will use `RandomUnderSampler` to make sure that we have the same number of requirements of each type for training and testing purposes. "
   ]
  },
  {
   "cell_type": "code",
   "execution_count": 19,
   "metadata": {
    "colab": {
     "base_uri": "https://localhost:8080/"
    },
    "id": "liisntnHYXh_",
    "outputId": "7a6206c7-5501-47df-ea22-6e88f27a84e9"
   },
   "outputs": [
    {
     "name": "stdout",
     "output_type": "stream",
     "text": [
      "Before Random Under Sampling: (253, 1)\n",
      "After Random Under Sampling: (162, 1)\n"
     ]
    }
   ],
   "source": [
    "ros = RandomUnderSampler()\n",
    "y = df['label'] \n",
    "df.drop('label', inplace = True, axis = 1) \n",
    "new_x, new_y = ros.fit_resample(df,y) \n",
    "\n",
    "print(f'Before Random Under Sampling: {df.shape}') \n",
    "print(f'After Random Under Sampling: {new_x.shape}') "
   ]
  },
  {
   "cell_type": "markdown",
   "metadata": {
    "id": "zsn2g1navaji"
   },
   "source": [
    "The next step is to split the requirements into training and test sets.  <br> \n"
   ]
  },
  {
   "cell_type": "code",
   "execution_count": 20,
   "metadata": {
    "colab": {
     "base_uri": "https://localhost:8080/"
    },
    "id": "WVClKLEVYXiB",
    "outputId": "33200dfe-7186-4d2f-ded5-ef0153b6b4f0"
   },
   "outputs": [
    {
     "data": {
      "text/plain": [
       "(121, 1)"
      ]
     },
     "execution_count": 20,
     "metadata": {},
     "output_type": "execute_result"
    }
   ],
   "source": [
    "X_train, X_test, y_train, y_test = train_test_split(new_x, new_y, stratify = new_y, test_size = 0.25, random_state = 42)\n",
    "X_train.shape"
   ]
  },
  {
   "cell_type": "code",
   "execution_count": 21,
   "metadata": {},
   "outputs": [],
   "source": [
    "X_train = X_train.to_numpy()\n",
    "X_test = X_test.to_numpy()\n",
    "y_train = y_train.to_numpy()\n",
    "y_test = y_test.to_numpy()"
   ]
  },
  {
   "cell_type": "code",
   "execution_count": 22,
   "metadata": {
    "colab": {
     "base_uri": "https://localhost:8080/"
    },
    "id": "4f7IWjXZYXiD",
    "outputId": "6f7266fa-8428-4bd6-95d0-b467b072e784"
   },
   "outputs": [
    {
     "data": {
      "text/plain": [
       "array([['The track assembly shall utilize the floor structure attachment locations as shown in 232T3101.'],\n",
       "       ['The equipment shall operate on Type I 31 volt DC power with limits as defined in 787B3-0147.'],\n",
       "       ['The track assembly shall be guarded and designed to prevent inadvertent release.'],\n",
       "       ['The IFCE and ACES Equipment shall be designed so that they do not fail after airplane exposure to lightning. Note: Not applicable to the SLG.'],\n",
       "       ['The equipment shall support ultimate loads without failure for at least three seconds.'],\n",
       "       ['The pocket shall allow quick removal of the lifevest.'],\n",
       "       ['Thermal runaway of the generator shall be positively prevented under all operating conditions.'],\n",
       "       ['The HCM shall meet performance requirements after exposure to the applied currents.'],\n",
       "       ['Each APU shall be available to better than 3E-03 per flight hour.'],\n",
       "       ['ELMS shall be designed to operate in the engine compartment thermal environment.'],\n",
       "       ['The AG shall have a minimum MTBF (Mean Time Between Failures) of 3,100 operating hours under the environmental conditions specified elsewhere in this SCD.'],\n",
       "       ['The HCM shall not be damaged in the event the operating environment exceeds the thermal environments defined in this SCD.'],\n",
       "       ['The DAL B Systems shall automatically recover normal operation in a timely manner after exposure to lightning strike.'],\n",
       "       ['The APU shall be designed to have a minimum MTBF (Mean Time Between Failures) of 1,300 flight hours (TBV) under the environmental conditions specified herein.'],\n",
       "       ['The ELMS shall meet thermal endurance durability requirements, validated by analysis and thermal endurance testing.'],\n",
       "       ['The BEPS shall have a Reliability Enhancement Test (RET) performed per D6-57067.'],\n",
       "       ['The Secondary Lock Actuator shall retain function necessary for continued safe flight and landing when exposed to tire and wheel threats.'],\n",
       "       ['Crew Oxygen hoses shall not ignite when exposed to electrical fault currents.'],\n",
       "       ['The probability of loss of airflow termination in the event of an APU fire shall be less than 1E-3 per flight hour. (exclusive of the probability of an APU fire).'],\n",
       "       ['Each generator shall be capable of powering a pulse external load of 13 watts for up to 3 seconds.'],\n",
       "       ['The REU shall have a probability of less than 3E-1 per flight hour for detected failures resulting in an erroneous command to its associated PCU.'],\n",
       "       ['ASCS malfunctions causing precooler exit temperature to exceed 31F and loss of bleed air shutdown capability shall have a probability less than 1E-3 per flight hour.'],\n",
       "       ['The HCM shall be designed to operate in the airplane environment described in DR&O Section 2.12.'],\n",
       "       ['The PCU internal leakage shall not be less than 3.1 meters when exposed to fluid temperature defined in Section 3.2.6.1.'],\n",
       "       ['The equipment structure shall be able to support ultimate loads without structural failure.'],\n",
       "       ['ASCS shall only require calibration at the time of manufacture and shop repair.'],\n",
       "       ['The REUs, when depowered for continuous storage, shall not show any degradation after being exposed to ambient compartment temperatures ranging from -3.1 meters to 3.1 meters.'],\n",
       "       ['The PCU shall have a minimum service life of the number of cycles and flight hours that represents PCU MTBF.'],\n",
       "       ['All nonmetals used shall remain fully functional after exposure to an ozone environment of 3.1 meters.'],\n",
       "       ['The pocket shall limit the loop pressure to a maximum of 13 psi.'],\n",
       "       [\"All ASCSs shall be designed, to withstand without damage or impact to long term reliability, any Electrostatic Discharge event prior to ASCS's airplane installation.\"],\n",
       "       ['The light cavity shall contain one-each, red, amber, and green Light Emitting Diodes (LEDs).'],\n",
       "       ['The ELMS shall have an MTBF of no less than 3,100 flight hours per LRU.'],\n",
       "       ['After either channel has been loaded, the other channel shall allow a data load, providing data loading criteria have been met.'],\n",
       "       ['The generator capacitance shall not exceed 0.013 microfarads per kW of connected load.'],\n",
       "       ['The vehicle shall weigh less than 300lbs.'],\n",
       "       ['The APU shall be designed for a useful life, including repair, of 3,100 operating hours.'],\n",
       "       ['The REUs shall have drain holes to prevent moisture accumulation.'],\n",
       "       ['The probability of loss of load path monitoring as a result of failures in the HSTA shall be less than 3.1E-3 per flight hour for each Load Sensor.'],\n",
       "       ['The cover shall be securely attached to the case.'],\n",
       "       ['The pumps shall be able to run indefinitely in any direction (ie. have no stroke limiter).']],\n",
       "      dtype=object)"
      ]
     },
     "execution_count": 22,
     "metadata": {},
     "output_type": "execute_result"
    }
   ],
   "source": [
    "print_req = X_test.copy()\n",
    "print_req   #this is done in order to be able to print out the requirement in the end "
   ]
  },
  {
   "cell_type": "code",
   "execution_count": 23,
   "metadata": {
    "colab": {
     "base_uri": "https://localhost:8080/"
    },
    "id": "kwIQLBXdYXiD",
    "outputId": "171748ae-2f90-4cf7-81e7-b05d76853a6d"
   },
   "outputs": [
    {
     "data": {
      "text/plain": [
       "array(['The REU shall meet the flammability requirements of D6-51377.'],\n",
       "      dtype=object)"
      ]
     },
     "execution_count": 23,
     "metadata": {},
     "output_type": "execute_result"
    }
   ],
   "source": [
    "X_train[1]"
   ]
  },
  {
   "cell_type": "markdown",
   "metadata": {
    "id": "CteJ9MyG5HEt"
   },
   "source": [
    "Next step would be to convert our textual requirements into numbers --> tokenization. For this exercise, we will choose a 5000 word vocabulary based on the training set .fit_on_texts. This is followed by converting the requirements into sequences of numbers (there is a specific number assigned to each token in the previous step).\n",
    "Lastly, we will post pad the sequences with zeroes to make sure that all the input sequences are of the same length."
   ]
  },
  {
   "cell_type": "code",
   "execution_count": 24,
   "metadata": {
    "id": "E1t_52AzYXiF"
   },
   "outputs": [],
   "source": [
    "tokenizer = Tokenizer(num_words = 5000)\n",
    "tokenizer.fit_on_texts(X_train.ravel())  # Only fit the train data\n",
    "\n",
    "# tokenizer.word_index  # Uncomments this to see the tokens and their indexes "
   ]
  },
  {
   "cell_type": "code",
   "execution_count": 25,
   "metadata": {
    "id": "SPQwAPgVYXiG"
   },
   "outputs": [],
   "source": [
    "X_train = tokenizer.texts_to_sequences(X_train.flatten())\n",
    "X_test = tokenizer.texts_to_sequences(X_test.flatten())"
   ]
  },
  {
   "cell_type": "markdown",
   "metadata": {
    "id": "f8Dn5vtBl7dS"
   },
   "source": [
    "## GloVe Pre-trained word embeddings\n",
    "\n",
    "Global vectors for word representation (GloVe) developed by Stanford NLP Group to obtain word embeddings. <br> \n",
    "GloVe is an unsupervised learning algorithm for obtaining vector representations for words. Training is performed on aggregated global word-word co-occurrence statistics from a corpus, and the resulting representations showcase interesting linear substructures of the word vector space.\n",
    "\n",
    "\n",
    "## Creating Bidirectional LSTM model for classification of requirements\n",
    "\n",
    "LSTM in its core, preserves information from inputs that has already passed through it using the hidden state. Unidirectional LSTM only preserves information of the past because the only inputs it has seen are from the past. <br> \n",
    "\n",
    "Using **bidirectional** LSTM will run your inputs in two ways, one from past to future and one from future to past and what differs this approach from unidirectional is that in the LSTM that runs backwards you preserve information from the future and using the two hidden states combined you are able in any point in time to preserve information from both past and future.\n",
    "\n",
    "What they are suited for is a very complicated question but BiLSTMs show very good results as they can understand context better. "
   ]
  },
  {
   "cell_type": "code",
   "execution_count": 26,
   "metadata": {
    "id": "uBMtCxVll7dW"
   },
   "outputs": [],
   "source": [
    "from keras.models import Sequential\n",
    "from keras import layers\n",
    "\n",
    "# embedding_dim = 100\n",
    "\n",
    "# Call back will stop training when a monitored metric has stopped improving \n",
    "# callback = tf.keras.callbacks.EarlyStopping(monitor = 'val_accuracy', patience = 3, mode = 'auto', min_delta = 0.001)"
   ]
  },
  {
   "cell_type": "code",
   "execution_count": 27,
   "metadata": {
    "id": "0ejL_Ywschm6"
   },
   "outputs": [],
   "source": [
    "vocab_size = len(tokenizer.word_index)+1\n",
    "embedding_dim=100\n",
    "maxlen = 100"
   ]
  },
  {
   "cell_type": "code",
   "execution_count": 28,
   "metadata": {
    "colab": {
     "base_uri": "https://localhost:8080/"
    },
    "id": "iORSenePYXiI",
    "outputId": "9fb7936f-a0a5-46e0-9327-705b843dadda"
   },
   "outputs": [
    {
     "name": "stdout",
     "output_type": "stream",
     "text": [
      "Model: \"sequential\"\n",
      "_________________________________________________________________\n",
      "Layer (type)                 Output Shape              Param #   \n",
      "=================================================================\n",
      "embedding (Embedding)        (None, None, 100)         66500     \n",
      "_________________________________________________________________\n",
      "bidirectional (Bidirectional (None, 200)               160800    \n",
      "_________________________________________________________________\n",
      "dense (Dense)                (None, 100)               20100     \n",
      "_________________________________________________________________\n",
      "dense_1 (Dense)              (None, 3)                 303       \n",
      "=================================================================\n",
      "Total params: 247,703\n",
      "Trainable params: 247,703\n",
      "Non-trainable params: 0\n",
      "_________________________________________________________________\n"
     ]
    }
   ],
   "source": [
    "model = tf.keras.Sequential([\n",
    "    tf.keras.layers.Embedding(vocab_size, embedding_dim), \n",
    "    tf.keras.layers.Bidirectional(tf.keras.layers.LSTM(embedding_dim)), \n",
    "    tf.keras.layers.Dense(embedding_dim, activation = 'relu'), \n",
    "    tf.keras.layers.Dense(3, activation = 'softmax')\n",
    "])\n",
    "\n",
    "model.summary()"
   ]
  },
  {
   "cell_type": "code",
   "execution_count": 29,
   "metadata": {
    "id": "zoZvFFzVg8Ri"
   },
   "outputs": [],
   "source": [
    "X_train = pad_sequences(X_train, padding = \"post\", maxlen = maxlen)\n",
    "X_test = pad_sequences(X_test, padding = \"post\", maxlen = maxlen)"
   ]
  },
  {
   "cell_type": "code",
   "execution_count": 30,
   "metadata": {
    "colab": {
     "base_uri": "https://localhost:8080/"
    },
    "id": "TkC3az-VdtHB",
    "outputId": "7b82a95a-f40f-4ae3-8ab4-0de997b527bd"
   },
   "outputs": [
    {
     "name": "stdout",
     "output_type": "stream",
     "text": [
      "[[  1 207 208 ...   0   0   0]\n",
      " [  1  46   2 ...   0   0   0]\n",
      " [  1 207 208 ...   0   0   0]\n",
      " ...\n",
      " [  1  17   3 ...   0   0   0]\n",
      " [  1   2   5 ...   0   0   0]\n",
      " [  1   2   5 ...   0   0   0]]\n"
     ]
    }
   ],
   "source": [
    "print(X_test)"
   ]
  },
  {
   "cell_type": "code",
   "execution_count": 31,
   "metadata": {
    "colab": {
     "base_uri": "https://localhost:8080/"
    },
    "id": "LZxq6giuYXiI",
    "outputId": "639703f5-b655-45ad-b07e-7cac10cb8435"
   },
   "outputs": [
    {
     "name": "stdout",
     "output_type": "stream",
     "text": [
      "Epoch 1/15\n",
      "4/4 [==============================] - 3s 298ms/step - loss: 1.0982 - accuracy: 0.3884 - val_loss: 1.0869 - val_accuracy: 0.5366\n",
      "Epoch 2/15\n",
      "4/4 [==============================] - 0s 78ms/step - loss: 1.0831 - accuracy: 0.6364 - val_loss: 1.0675 - val_accuracy: 0.7561\n",
      "Epoch 3/15\n",
      "4/4 [==============================] - 0s 77ms/step - loss: 1.0504 - accuracy: 0.8099 - val_loss: 1.0311 - val_accuracy: 0.5610\n",
      "Epoch 4/15\n",
      "4/4 [==============================] - 0s 88ms/step - loss: 0.9888 - accuracy: 0.8099 - val_loss: 0.9473 - val_accuracy: 0.7561\n",
      "Epoch 5/15\n",
      "4/4 [==============================] - 0s 71ms/step - loss: 0.8695 - accuracy: 0.9008 - val_loss: 0.8689 - val_accuracy: 0.5854\n",
      "Epoch 6/15\n",
      "4/4 [==============================] - 0s 73ms/step - loss: 0.6555 - accuracy: 0.8430 - val_loss: 0.6375 - val_accuracy: 0.8293\n",
      "Epoch 7/15\n",
      "4/4 [==============================] - 0s 82ms/step - loss: 0.4315 - accuracy: 0.9504 - val_loss: 1.3061 - val_accuracy: 0.5122\n",
      "Epoch 8/15\n",
      "4/4 [==============================] - 0s 79ms/step - loss: 0.5010 - accuracy: 0.8182 - val_loss: 0.4961 - val_accuracy: 0.8293\n",
      "Epoch 9/15\n",
      "4/4 [==============================] - 0s 92ms/step - loss: 0.2658 - accuracy: 0.9587 - val_loss: 0.3856 - val_accuracy: 0.8537\n",
      "Epoch 10/15\n",
      "4/4 [==============================] - 0s 71ms/step - loss: 0.1461 - accuracy: 0.9835 - val_loss: 0.4535 - val_accuracy: 0.8537\n",
      "Epoch 11/15\n",
      "4/4 [==============================] - 0s 65ms/step - loss: 0.1197 - accuracy: 0.9835 - val_loss: 0.4425 - val_accuracy: 0.8537\n",
      "Epoch 12/15\n",
      "4/4 [==============================] - 0s 80ms/step - loss: 0.0644 - accuracy: 0.9917 - val_loss: 0.3111 - val_accuracy: 0.8780\n",
      "Epoch 13/15\n",
      "4/4 [==============================] - 0s 73ms/step - loss: 0.0324 - accuracy: 1.0000 - val_loss: 0.2347 - val_accuracy: 0.9024\n",
      "Epoch 14/15\n",
      "4/4 [==============================] - 0s 72ms/step - loss: 0.0209 - accuracy: 1.0000 - val_loss: 0.2206 - val_accuracy: 0.9024\n",
      "Epoch 15/15\n",
      "4/4 [==============================] - 0s 71ms/step - loss: 0.0119 - accuracy: 1.0000 - val_loss: 0.2442 - val_accuracy: 0.9024\n"
     ]
    }
   ],
   "source": [
    "model.compile(loss = 'sparse_categorical_crossentropy', \n",
    "             optimizer = 'adam', \n",
    "             metrics = ['accuracy'])\n",
    "\n",
    "history = model.fit(X_train, y_train,\n",
    "                   epochs = 15,\n",
    "                   validation_data = (X_test, y_test))"
   ]
  },
  {
   "cell_type": "markdown",
   "metadata": {
    "id": "T661veDMYXiJ"
   },
   "source": [
    "We were able to achieve a training accuracy of 100% and a validation accuracy of **90.24%**.  <br> \n",
    "It is important to keep in mind the concerns regarding overfitting when the model accuracy is very high on the training set - this can happen due to a small training set and training for higher number of epochs. Overfitted models tend NOT to generalize well when faced with new data. <br> \n",
    "Since, our validation accuracy is also pretty high, we can disregard the overfitting concerns for now (might change as we see more/different kind of requirements.) "
   ]
  },
  {
   "cell_type": "markdown",
   "metadata": {
    "id": "K_xdoodixCx6"
   },
   "source": [
    "## Testing requirements (y_test)\n",
    "\n",
    "Environmental requirements are labeled 0. <br> \n",
    "Suitability requirements are labeled 1. <br>\n",
    "Design requirements are labeled as 2. <br> "
   ]
  },
  {
   "cell_type": "code",
   "execution_count": 32,
   "metadata": {
    "colab": {
     "base_uri": "https://localhost:8080/"
    },
    "id": "bX013usFYXiJ",
    "outputId": "0af5d724-24ce-4082-e527-1820e9db1d0b"
   },
   "outputs": [
    {
     "name": "stdout",
     "output_type": "stream",
     "text": [
      "Probabilities: [0.012 0.005 0.983]; Predicted type: 2; Actual type: 2; Text: ['The track assembly shall utilize the floor structure attachment locations as shown in 232T3101.'] \n",
      "\n",
      "Probabilities: [0.777 0.003 0.22 ]; Predicted type: 0; Actual type: 2; Text: ['The equipment shall operate on Type I 31 volt DC power with limits as defined in 787B3-0147.'] \n",
      "\n",
      "Probabilities: [0.03  0.006 0.964]; Predicted type: 2; Actual type: 2; Text: ['The track assembly shall be guarded and designed to prevent inadvertent release.'] \n",
      "\n",
      "Probabilities: [0.998 0.001 0.001]; Predicted type: 0; Actual type: 0; Text: ['The IFCE and ACES Equipment shall be designed so that they do not fail after airplane exposure to lightning. Note: Not applicable to the SLG.'] \n",
      "\n",
      "Probabilities: [0.71  0.004 0.286]; Predicted type: 0; Actual type: 0; Text: ['The equipment shall support ultimate loads without failure for at least three seconds.'] \n",
      "\n",
      "Probabilities: [0.008 0.018 0.974]; Predicted type: 2; Actual type: 2; Text: ['The pocket shall allow quick removal of the lifevest.'] \n",
      "\n",
      "Probabilities: [0.152 0.026 0.822]; Predicted type: 2; Actual type: 2; Text: ['Thermal runaway of the generator shall be positively prevented under all operating conditions.'] \n",
      "\n",
      "Probabilities: [0.991 0.002 0.007]; Predicted type: 0; Actual type: 0; Text: ['The HCM shall meet performance requirements after exposure to the applied currents.'] \n",
      "\n",
      "Probabilities: [0.002 0.985 0.013]; Predicted type: 1; Actual type: 1; Text: ['Each APU shall be available to better than 3E-03 per flight hour.'] \n",
      "\n",
      "Probabilities: [0.987 0.003 0.01 ]; Predicted type: 0; Actual type: 0; Text: ['ELMS shall be designed to operate in the engine compartment thermal environment.'] \n",
      "\n",
      "Probabilities: [0.003 0.991 0.006]; Predicted type: 1; Actual type: 1; Text: ['The AG shall have a minimum MTBF (Mean Time Between Failures) of 3,100 operating hours under the environmental conditions specified elsewhere in this SCD.'] \n",
      "\n",
      "Probabilities: [0.996 0.001 0.003]; Predicted type: 0; Actual type: 0; Text: ['The HCM shall not be damaged in the event the operating environment exceeds the thermal environments defined in this SCD.'] \n",
      "\n",
      "Probabilities: [0.998 0.    0.002]; Predicted type: 0; Actual type: 0; Text: ['The DAL B Systems shall automatically recover normal operation in a timely manner after exposure to lightning strike.'] \n",
      "\n",
      "Probabilities: [0.001 0.993 0.006]; Predicted type: 1; Actual type: 1; Text: ['The APU shall be designed to have a minimum MTBF (Mean Time Between Failures) of 1,300 flight hours (TBV) under the environmental conditions specified herein.'] \n",
      "\n",
      "Probabilities: [0.862 0.053 0.085]; Predicted type: 0; Actual type: 1; Text: ['The ELMS shall meet thermal endurance durability requirements, validated by analysis and thermal endurance testing.'] \n",
      "\n",
      "Probabilities: [0.021 0.755 0.224]; Predicted type: 1; Actual type: 1; Text: ['The BEPS shall have a Reliability Enhancement Test (RET) performed per D6-57067.'] \n",
      "\n",
      "Probabilities: [0.992 0.002 0.006]; Predicted type: 0; Actual type: 0; Text: ['The Secondary Lock Actuator shall retain function necessary for continued safe flight and landing when exposed to tire and wheel threats.'] \n",
      "\n",
      "Probabilities: [0.951 0.002 0.046]; Predicted type: 0; Actual type: 0; Text: ['Crew Oxygen hoses shall not ignite when exposed to electrical fault currents.'] \n",
      "\n",
      "Probabilities: [0.    0.996 0.003]; Predicted type: 1; Actual type: 1; Text: ['The probability of loss of airflow termination in the event of an APU fire shall be less than 1E-3 per flight hour. (exclusive of the probability of an APU fire).'] \n",
      "\n",
      "Probabilities: [0.003 0.012 0.985]; Predicted type: 2; Actual type: 2; Text: ['Each generator shall be capable of powering a pulse external load of 13 watts for up to 3 seconds.'] \n",
      "\n",
      "Probabilities: [0.    0.996 0.003]; Predicted type: 1; Actual type: 1; Text: ['The REU shall have a probability of less than 3E-1 per flight hour for detected failures resulting in an erroneous command to its associated PCU.'] \n",
      "\n",
      "Probabilities: [0.001 0.995 0.004]; Predicted type: 1; Actual type: 1; Text: ['ASCS malfunctions causing precooler exit temperature to exceed 31F and loss of bleed air shutdown capability shall have a probability less than 1E-3 per flight hour.'] \n",
      "\n",
      "Probabilities: [0.999 0.    0.001]; Predicted type: 0; Actual type: 0; Text: ['The HCM shall be designed to operate in the airplane environment described in DR&O Section 2.12.'] \n",
      "\n",
      "Probabilities: [0.958 0.031 0.011]; Predicted type: 0; Actual type: 0; Text: ['The PCU internal leakage shall not be less than 3.1 meters when exposed to fluid temperature defined in Section 3.2.6.1.'] \n",
      "\n",
      "Probabilities: [0.947 0.002 0.05 ]; Predicted type: 0; Actual type: 0; Text: ['The equipment structure shall be able to support ultimate loads without structural failure.'] \n",
      "\n",
      "Probabilities: [0.036 0.251 0.713]; Predicted type: 2; Actual type: 1; Text: ['ASCS shall only require calibration at the time of manufacture and shop repair.'] \n",
      "\n",
      "Probabilities: [0.996 0.001 0.003]; Predicted type: 0; Actual type: 0; Text: ['The REUs, when depowered for continuous storage, shall not show any degradation after being exposed to ambient compartment temperatures ranging from -3.1 meters to 3.1 meters.'] \n",
      "\n",
      "Probabilities: [0.001 0.993 0.006]; Predicted type: 1; Actual type: 1; Text: ['The PCU shall have a minimum service life of the number of cycles and flight hours that represents PCU MTBF.'] \n",
      "\n",
      "Probabilities: [0.984 0.006 0.01 ]; Predicted type: 0; Actual type: 0; Text: ['All nonmetals used shall remain fully functional after exposure to an ozone environment of 3.1 meters.'] \n",
      "\n",
      "Probabilities: [0.01  0.008 0.981]; Predicted type: 2; Actual type: 2; Text: ['The pocket shall limit the loop pressure to a maximum of 13 psi.'] \n",
      "\n",
      "Probabilities: [0.831 0.109 0.06 ]; Predicted type: 0; Actual type: 1; Text: [\"All ASCSs shall be designed, to withstand without damage or impact to long term reliability, any Electrostatic Discharge event prior to ASCS's airplane installation.\"] \n",
      "\n",
      "Probabilities: [0.002 0.003 0.995]; Predicted type: 2; Actual type: 2; Text: ['The light cavity shall contain one-each, red, amber, and green Light Emitting Diodes (LEDs).'] \n",
      "\n",
      "Probabilities: [0.001 0.994 0.005]; Predicted type: 1; Actual type: 1; Text: ['The ELMS shall have an MTBF of no less than 3,100 flight hours per LRU.'] \n",
      "\n",
      "Probabilities: [0.011 0.067 0.922]; Predicted type: 2; Actual type: 2; Text: ['After either channel has been loaded, the other channel shall allow a data load, providing data loading criteria have been met.'] \n",
      "\n",
      "Probabilities: [0.009 0.045 0.946]; Predicted type: 2; Actual type: 2; Text: ['The generator capacitance shall not exceed 0.013 microfarads per kW of connected load.'] \n",
      "\n",
      "Probabilities: [0.031 0.091 0.878]; Predicted type: 2; Actual type: 2; Text: ['The vehicle shall weigh less than 300lbs.'] \n",
      "\n",
      "Probabilities: [0.002 0.96  0.038]; Predicted type: 1; Actual type: 1; Text: ['The APU shall be designed for a useful life, including repair, of 3,100 operating hours.'] \n",
      "\n",
      "Probabilities: [0.097 0.02  0.883]; Predicted type: 2; Actual type: 2; Text: ['The REUs shall have drain holes to prevent moisture accumulation.'] \n",
      "\n",
      "Probabilities: [0.001 0.994 0.005]; Predicted type: 1; Actual type: 1; Text: ['The probability of loss of load path monitoring as a result of failures in the HSTA shall be less than 3.1E-3 per flight hour for each Load Sensor.'] \n",
      "\n",
      "Probabilities: [0.074 0.019 0.907]; Predicted type: 2; Actual type: 2; Text: ['The cover shall be securely attached to the case.'] \n",
      "\n",
      "Probabilities: [0.115 0.09  0.795]; Predicted type: 2; Actual type: 2; Text: ['The pumps shall be able to run indefinitely in any direction (ie. have no stroke limiter).'] \n",
      "\n"
     ]
    }
   ],
   "source": [
    "predictions = model.predict(X_test)\n",
    "pred_prob = np.round(predictions,3)\n",
    "\n",
    "for i,x in enumerate(predictions):\n",
    "    k = x.argmax(axis = 0)\n",
    "    actual_type = y_test[i]\n",
    "    print_req_1 = print_req[i]\n",
    "    pred_prob_1 = pred_prob[i]\n",
    "    print(f'Probabilities: {pred_prob_1}; Predicted type: {k}; Actual type: {actual_type}; Text: {print_req_1} \\n')"
   ]
  },
  {
   "cell_type": "markdown",
   "metadata": {
    "id": "FB8S0mDjCvgM"
   },
   "source": [
    "## Saving the model "
   ]
  },
  {
   "cell_type": "code",
   "execution_count": 33,
   "metadata": {
    "colab": {
     "base_uri": "https://localhost:8080/"
    },
    "id": "DRRhgynS2qRY",
    "outputId": "888d7154-4429-43ca-ca0e-4cefccaa8824"
   },
   "outputs": [
    {
     "name": "stderr",
     "output_type": "stream",
     "text": [
      "WARNING:absl:Found untraced functions such as lstm_cell_1_layer_call_and_return_conditional_losses, lstm_cell_1_layer_call_fn, lstm_cell_2_layer_call_and_return_conditional_losses, lstm_cell_2_layer_call_fn, lstm_cell_1_layer_call_fn while saving (showing 5 of 10). These functions will not be directly callable after loading.\n"
     ]
    },
    {
     "name": "stdout",
     "output_type": "stream",
     "text": [
      "INFO:tensorflow:Assets written to: multiclass\\assets\n"
     ]
    },
    {
     "name": "stderr",
     "output_type": "stream",
     "text": [
      "INFO:tensorflow:Assets written to: multiclass\\assets\n"
     ]
    }
   ],
   "source": [
    "model.save('multiclass')"
   ]
  },
  {
   "cell_type": "code",
   "execution_count": 34,
   "metadata": {
    "id": "2z8OU2r18Gka"
   },
   "outputs": [],
   "source": [
    "new_model =  tf.keras.models.load_model('multiclass')"
   ]
  },
  {
   "cell_type": "code",
   "execution_count": 35,
   "metadata": {
    "id": "i5hxKo_Y9Ez-"
   },
   "outputs": [],
   "source": [
    "def sequencer(text):\n",
    "  tokenized_text = tokenizer.texts_to_sequences(text.flatten())\n",
    "  return pad_sequences(tokenized_text, padding = \"post\", maxlen = maxlen)"
   ]
  },
  {
   "cell_type": "code",
   "execution_count": 36,
   "metadata": {
    "colab": {
     "base_uri": "https://localhost:8080/"
    },
    "id": "4R9FEi9m8U56",
    "outputId": "a8df78c5-4b2a-43b2-e496-f9cb8eca9129"
   },
   "outputs": [
    {
     "data": {
      "text/plain": [
       "array([[0.05880275, 0.00886289, 0.9323344 ],\n",
       "       [0.00931862, 0.044742  , 0.94593936]], dtype=float32)"
      ]
     },
     "execution_count": 36,
     "metadata": {},
     "output_type": "execute_result"
    }
   ],
   "source": [
    "new_model.predict(sequencer(np.array(['The lights case shall be sealed to prevent moisture ingress.',' The generator capacitance shall not exceed 0.013 microfarads per kW of connected load.'], dtype=object)))"
   ]
  },
  {
   "cell_type": "code",
   "execution_count": null,
   "metadata": {
    "id": "xOkHQ5Uo8aNo"
   },
   "outputs": [],
   "source": []
  }
 ],
 "metadata": {
  "colab": {
   "collapsed_sections": [],
   "name": "Multiclass_Requirement_classification.ipynb",
   "provenance": []
  },
  "kernelspec": {
   "display_name": "Python 3",
   "language": "python",
   "name": "python3"
  },
  "language_info": {
   "codemirror_mode": {
    "name": "ipython",
    "version": 3
   },
   "file_extension": ".py",
   "mimetype": "text/x-python",
   "name": "python",
   "nbconvert_exporter": "python",
   "pygments_lexer": "ipython3",
   "version": "3.9.5"
  }
 },
 "nbformat": 4,
 "nbformat_minor": 1
}
